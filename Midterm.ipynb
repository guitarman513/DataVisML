{
 "cells": [
  {
   "cell_type": "code",
   "execution_count": 1,
   "metadata": {},
   "outputs": [],
   "source": [
    "import pyLDAvis\n",
    "import pyLDAvis.sklearn\n",
    "import numpy as np\n",
    "pyLDAvis.enable_notebook()"
   ]
  },
  {
   "cell_type": "code",
   "execution_count": 2,
   "metadata": {},
   "outputs": [],
   "source": [
    "#import dataset\n",
    "from sklearn.datasets import fetch_20newsgroups\n",
    "#import functions to analyze the __ and the relative weighted term freq of words in a doc (TFIDF)\n",
    "from sklearn.feature_extraction.text import CountVectorizer, TfidfVectorizer\n",
    "#import LDA stuff\n",
    "from sklearn.decomposition import LatentDirichletAllocation"
   ]
  },
  {
   "cell_type": "code",
   "execution_count": 3,
   "metadata": {},
   "outputs": [
    {
     "name": "stdout",
     "output_type": "stream",
     "text": [
      "the length of the training set is  11314\n",
      "the length of the testing set is  7532\n"
     ]
    }
   ],
   "source": [
    "#There are only 18846 documents, with 11314 (60%) training and 7532 (40%) testing.\n",
    "newsgroups1 = fetch_20newsgroups(remove=('headers', 'footers', 'quotes'))\n",
    "docs_raw_training = newsgroups1.data\n",
    "newsgroups2 = fetch_20newsgroups(subset='test',remove=('headers', 'footers', 'quotes'))\n",
    "docs_raw_testing = newsgroups2.data\n",
    "print('the length of the training set is ',len(docs_raw_training))\n",
    "print('the length of the testing set is ',len(docs_raw_testing))"
   ]
  },
  {
   "cell_type": "code",
   "execution_count": 4,
   "metadata": {},
   "outputs": [
    {
     "name": "stdout",
     "output_type": "stream",
     "text": [
      "15\n",
      "soc.religion.christian\n",
      "Sorry for posting this, but my e-mail keeps bouncing.  Maybe it will\n",
      "help others here, anyway, and therefore I pray others will read this.  It is\n",
      "actually a response from my Aunt, who has 5 kids, since I have none yet.\n",
      "\n",
      "     I'm posting this for a good Christian relative who does not have e-mail\n",
      "access.  Since this aunt and uncle have 5 kids I felt they would be more\n",
      "relevant than I, who have none (yet).\n",
      "\n",
      "     13-year-old (13YO) twins, 10YO boy, 6.5YO boy, 2YO girl\n",
      "\n",
      "     I don't call it spanking, but they do, so yes, very rarely.\n",
      "\n",
      "     I don't call it spanking because it's more of a reaction to something\n",
      "very dangerous, such as trying to stick their finger in a fan or running\n",
      "into the road.  Maybe 3-4 times for each except for the 2YO girl, who has\n",
      "not been spanked yet.\n",
      "     They call it that because it *does* hurt their feelings, and of course\n",
      "I give all the hugs and stuff to ensure they know they're still loved.\n",
      "\n",
      "     No, that would be too painful.  If it's too traumatic they never recall\n",
      "why they were punished.  Besides, it must be immediate, and taking the time\n",
      "to go get a toolmeans you're not doing it right away, and that lessens the\n",
      "impact.  It's very emotional for a child as it is - which is evidenced by the\n",
      "fact that a little slap on the rear - which hurts for perhaps 5 seconds -\n",
      "is called a spanking.\n",
      "     Lots of logical consequences - for instance, when 4YO Matthew dared\n",
      "a good friend to jump out of his treehouse or he would push him out, I made\n",
      "sure they didn't play together for 5 days so he'd know that would make him\n",
      "lose friends very quickly.  He's never done anything like that since.\n",
      "     We also use time-out in their rooms - I use a timer so they don't keep\n",
      "arguing with me over leaving, since it's hard to argue with a macine.\n",
      "I will go to the closed door and tell them timeout won't be over until they\n",
      "calm down if they're too tantrumy.  I use the top of the stairs when they're\n",
      "really young.\n",
      "\n",
      "     40\n",
      "\n",
      "     Bath, Ohio.  It's right outside of Akron, in the northeast part of Ohio.\n",
      "\n",
      "     No, and none of my kids would dream of it.  I hope you can use this to\n",
      "teach all parents that physical punishment isn't always required - parents use\n",
      "that as an excuse to hit too hard.\n",
      "\n",
      "     Lots of timeouts, same as I use.  Our family and my husband's have never\n",
      "used spankings.  In fact, my grandmother in law was one of 11 kids, and they\n",
      "were almost never spanked.  This was around the turn of the century.  And,\n",
      "none of us has ever been afoul of the law - man-made or God's law.\n",
      "     Jesus says, referring to a small child whom he is holding, that \"what\n",
      "ye do to the least of these, ye do also to me.\"  The Bible also says in all\n",
      "things to be kind, and merciful, and especially loving. (Colossians 3:12-15.)\n",
      "There is no room for selfish anger, which I'll admit I've been tempted with\n",
      "at times.  When I've felt like spanking hard in anger, maybe the kid deserved\n",
      "a little slap on the rear, but what I would have given would have been the\n",
      "devil's work.  I could feel the temptation, and just angrily ordered the kid\n",
      "to his/her room and went to my room myself.  After praying and asking God's\n",
      "forgiveness, I was much calmer, and did not feel like spanking, but felt that\n",
      "what I had done was enough punishment.\n",
      "\n",
      "\n",
      "\n",
      "All labels =  ['alt.atheism', 'comp.graphics', 'comp.os.ms-windows.misc', 'comp.sys.ibm.pc.hardware', 'comp.sys.mac.hardware', 'comp.windows.x', 'misc.forsale', 'rec.autos', 'rec.motorcycles', 'rec.sport.baseball', 'rec.sport.hockey', 'sci.crypt', 'sci.electronics', 'sci.med', 'sci.space', 'soc.religion.christian', 'talk.politics.guns', 'talk.politics.mideast', 'talk.politics.misc', 'talk.religion.misc']\n"
     ]
    }
   ],
   "source": [
    "#get doc and category for a given document in the training set\n",
    "docNum = 999\n",
    "#print category number\n",
    "category_for_given_doc = newsgroups1.target[docNum]\n",
    "print(newsgroups1.target[docNum])\n",
    "#print category name\n",
    "print(newsgroups1.target_names[category_for_given_doc])\n",
    "\n",
    "#print doc\n",
    "print(docs_raw_training[docNum])\n",
    "\n",
    "\n",
    "\n",
    "#print all labels\n",
    "print(\"\\n\\n\\nAll labels = \" , newsgroups1.target_names)"
   ]
  },
  {
   "cell_type": "code",
   "execution_count": 5,
   "metadata": {
    "scrolled": false
   },
   "outputs": [
    {
     "name": "stdout",
     "output_type": "stream",
     "text": [
      "(11314, 9144)\n"
     ]
    }
   ],
   "source": [
    "#the term frequency vectorizer returns an M(document number in rows) BY N(count of every possible word in col) matrix of term frequency\n",
    "#min and max df (doc freq) are set to select thresholds of which words to include in the tf matrix\n",
    "# max_df = 0.50 means \"ignore terms that appear in more than 50% of the documents\".\n",
    "# min_df = 0.01 means \"ignore terms that appear in less than 1% of the documents\".\n",
    "# min_df = 5 means \"ignore terms that appear in fewer than 10 documents\".\n",
    "# this gets rid of words like \"the\", \"and\" (thanks to max_df) \n",
    "# also removes words like \"supercalifragalisticexpialidocious\" which may only appear in one or two articles and thus is not important to consider\n",
    "\n",
    "tf_vectorizer = CountVectorizer(strip_accents = 'unicode',\n",
    "                                stop_words = 'english',\n",
    "                                lowercase = True,\n",
    "                                token_pattern = r'\\b[a-zA-Z]{3,}\\b',\n",
    "                                max_df = 0.5, \n",
    "                                min_df = 10)\n",
    "\n",
    "#run our pre programmed term freq vectorizer on the training set\n",
    "dtm_tf = tf_vectorizer.fit_transform(docs_raw_training)\n",
    "print(dtm_tf.shape)\n",
    "#returns (11314, 9144) so 11314 rows (docs) and 9144 words (cols) fitting the max_df and min_df constraints we gave\n",
    "# note that the term frequency matrix is extremely sparse, as only few docs have certain words\n",
    "#print all words\n",
    "#print(tf_vectorizer.get_feature_names())"
   ]
  },
  {
   "cell_type": "code",
   "execution_count": 7,
   "metadata": {},
   "outputs": [
    {
     "name": "stdout",
     "output_type": "stream",
     "text": [
      "(11314, 9144)\n"
     ]
    }
   ],
   "source": [
    "#next, convert tf matrix into a tf-idf matrix to scale things better\n",
    "tfidf_vectorizer = TfidfVectorizer(**tf_vectorizer.get_params())\n",
    "dtm_tfidf = tfidf_vectorizer.fit_transform(docs_raw_training)\n",
    "print(dtm_tfidf.shape)"
   ]
  },
  {
   "cell_type": "code",
   "execution_count": 13,
   "metadata": {},
   "outputs": [
    {
     "name": "stderr",
     "output_type": "stream",
     "text": [
      "/anaconda3/lib/python3.6/site-packages/sklearn/decomposition/online_lda.py:536: DeprecationWarning: The default value for 'learning_method' will be changed from 'online' to 'batch' in the release 0.20. This warning was introduced in 0.18.\n",
      "  DeprecationWarning)\n"
     ]
    },
    {
     "data": {
      "text/plain": [
       "LatentDirichletAllocation(batch_size=128, doc_topic_prior=None,\n",
       "             evaluate_every=-1, learning_decay=0.7, learning_method=None,\n",
       "             learning_offset=10.0, max_doc_update_iter=100, max_iter=10,\n",
       "             mean_change_tol=0.001, n_components=6, n_jobs=1,\n",
       "             n_topics=None, perp_tol=0.1, random_state=0,\n",
       "             topic_word_prior=None, total_samples=1000000.0, verbose=0)"
      ]
     },
     "execution_count": 13,
     "metadata": {},
     "output_type": "execute_result"
    }
   ],
   "source": [
    "#import for debugging to obtain attributes of objects\n",
    "from pprint import pprint\n",
    "\n",
    "#set the number of distince topics we want our LDA classifier to extract\n",
    "#the true number of topics given is 20. interesting as topics goes down the categories learned become broader\n",
    "num_topics = 6\n",
    "\n",
    "#now, use LDA to obtain a matrix with TxW (topics(20)) by (words(~9000)) with the estimated probabilities \n",
    "# normalized means column always sums to 1.0\n",
    "lda = LatentDirichletAllocation(n_components=num_topics, random_state=0)\n",
    "\n",
    "#fit the lda model to our data (in this case it is the testing data from 20 newsgroup)\n",
    "lda.fit(dtm_tfidf)\n",
    "#pprint(vars(lda))"
   ]
  },
  {
   "cell_type": "code",
   "execution_count": 14,
   "metadata": {},
   "outputs": [],
   "source": [
    "#normalize cols to equal 1 \n",
    "#lda.components_ / lda.components_.sum(axis=1)[:, np.newaxis]\n",
    "#pprint([i[0] for i in lda.components_])"
   ]
  },
  {
   "cell_type": "code",
   "execution_count": 15,
   "metadata": {},
   "outputs": [
    {
     "name": "stderr",
     "output_type": "stream",
     "text": [
      "/anaconda3/lib/python3.6/site-packages/pyLDAvis/_prepare.py:257: FutureWarning: Sorting because non-concatenation axis is not aligned. A future version\n",
      "of pandas will change to not sort by default.\n",
      "\n",
      "To accept the future behavior, pass 'sort=True'.\n",
      "\n",
      "To retain the current behavior and silence the warning, pass sort=False\n",
      "\n",
      "  return pd.concat([default_term_info] + list(topic_dfs))\n"
     ]
    }
   ],
   "source": [
    "#Give it lda object, term freq matrix, and alphabetical list of words we consider\n",
    "newsGroup_data = pyLDAvis.sklearn.prepare(lda, dtm_tfidf, tf_vectorizer)"
   ]
  },
  {
   "cell_type": "code",
   "execution_count": 16,
   "metadata": {},
   "outputs": [
    {
     "data": {
      "text/html": [
       "\n",
       "<link rel=\"stylesheet\" type=\"text/css\" href=\"https://cdn.rawgit.com/bmabey/pyLDAvis/files/ldavis.v1.0.0.css\">\n",
       "\n",
       "\n",
       "<div id=\"ldavis_el458481123045362161796733555\"></div>\n",
       "<script type=\"text/javascript\">\n",
       "\n",
       "var ldavis_el458481123045362161796733555_data = {\"mdsDat\": {\"x\": [-0.004171424819489361, -0.2476311092775767, 0.10423506451302865, 0.06136547962559148, 0.048444582711268384, 0.037757407247177424], \"y\": [0.14696446310418845, -0.0402918162172042, -0.07233132418072154, -0.017247408732414864, -0.011338665982757424, -0.00575524799109051], \"topics\": [1, 2, 3, 4, 5, 6], \"cluster\": [1, 1, 1, 1, 1, 1], \"Freq\": [63.34425755412417, 24.163885604899775, 3.8373032111579435, 3.1092914410092503, 2.9017188637507902, 2.643543325058078]}, \"tinfo\": {\"Category\": [\"Default\", \"Default\", \"Default\", \"Default\", \"Default\", \"Default\", \"Default\", \"Default\", \"Default\", \"Default\", \"Default\", \"Default\", \"Default\", \"Default\", \"Default\", \"Default\", \"Default\", \"Default\", \"Default\", \"Default\", \"Default\", \"Default\", \"Default\", \"Default\", \"Default\", \"Default\", \"Default\", \"Default\", \"Default\", \"Default\", \"Topic1\", \"Topic1\", \"Topic1\", \"Topic1\", \"Topic1\", \"Topic1\", \"Topic1\", \"Topic1\", \"Topic1\", \"Topic1\", \"Topic1\", \"Topic1\", \"Topic1\", \"Topic1\", \"Topic1\", \"Topic1\", \"Topic1\", \"Topic1\", \"Topic1\", \"Topic1\", \"Topic1\", \"Topic1\", \"Topic1\", \"Topic1\", \"Topic1\", \"Topic1\", \"Topic1\", \"Topic1\", \"Topic1\", \"Topic1\", \"Topic1\", \"Topic1\", \"Topic1\", \"Topic1\", \"Topic1\", \"Topic1\", \"Topic1\", \"Topic1\", \"Topic1\", \"Topic1\", \"Topic1\", \"Topic1\", \"Topic1\", \"Topic1\", \"Topic1\", \"Topic1\", \"Topic1\", \"Topic1\", \"Topic1\", \"Topic1\", \"Topic1\", \"Topic1\", \"Topic1\", \"Topic1\", \"Topic1\", \"Topic1\", \"Topic1\", \"Topic1\", \"Topic1\", \"Topic1\", \"Topic2\", \"Topic2\", \"Topic2\", \"Topic2\", \"Topic2\", \"Topic2\", \"Topic2\", \"Topic2\", \"Topic2\", \"Topic2\", \"Topic2\", \"Topic2\", \"Topic2\", \"Topic2\", \"Topic2\", \"Topic2\", \"Topic2\", \"Topic2\", \"Topic2\", \"Topic2\", \"Topic2\", \"Topic2\", \"Topic2\", \"Topic2\", \"Topic2\", \"Topic2\", \"Topic2\", \"Topic2\", \"Topic2\", \"Topic2\", \"Topic2\", \"Topic2\", \"Topic2\", \"Topic2\", \"Topic2\", \"Topic2\", \"Topic2\", \"Topic2\", \"Topic2\", \"Topic2\", \"Topic2\", \"Topic2\", \"Topic2\", \"Topic2\", \"Topic2\", \"Topic2\", \"Topic2\", \"Topic2\", \"Topic2\", \"Topic2\", \"Topic2\", \"Topic2\", \"Topic2\", \"Topic2\", \"Topic2\", \"Topic2\", \"Topic2\", \"Topic2\", \"Topic2\", \"Topic2\", \"Topic2\", \"Topic2\", \"Topic3\", \"Topic3\", \"Topic3\", \"Topic3\", \"Topic3\", \"Topic3\", \"Topic3\", \"Topic3\", \"Topic3\", \"Topic3\", \"Topic3\", \"Topic3\", \"Topic3\", \"Topic3\", \"Topic3\", \"Topic3\", \"Topic3\", \"Topic3\", \"Topic3\", \"Topic3\", \"Topic3\", \"Topic3\", \"Topic3\", \"Topic3\", \"Topic3\", \"Topic3\", \"Topic3\", \"Topic3\", \"Topic3\", \"Topic3\", \"Topic3\", \"Topic3\", \"Topic3\", \"Topic3\", \"Topic3\", \"Topic3\", \"Topic4\", \"Topic4\", \"Topic4\", \"Topic4\", \"Topic4\", \"Topic4\", \"Topic4\", \"Topic4\", \"Topic4\", \"Topic4\", \"Topic4\", \"Topic4\", \"Topic4\", \"Topic4\", \"Topic4\", \"Topic4\", \"Topic4\", \"Topic4\", \"Topic4\", \"Topic4\", \"Topic4\", \"Topic4\", \"Topic4\", \"Topic4\", \"Topic4\", \"Topic4\", \"Topic4\", \"Topic4\", \"Topic4\", \"Topic4\", \"Topic4\", \"Topic4\", \"Topic4\", \"Topic4\", \"Topic4\", \"Topic4\", \"Topic4\", \"Topic5\", \"Topic5\", \"Topic5\", \"Topic5\", \"Topic5\", \"Topic5\", \"Topic5\", \"Topic5\", \"Topic5\", \"Topic5\", \"Topic5\", \"Topic5\", \"Topic5\", \"Topic5\", \"Topic5\", \"Topic5\", \"Topic5\", \"Topic5\", \"Topic5\", \"Topic5\", \"Topic5\", \"Topic5\", \"Topic5\", \"Topic5\", \"Topic5\", \"Topic5\", \"Topic5\", \"Topic5\", \"Topic5\", \"Topic5\", \"Topic5\", \"Topic5\", \"Topic5\", \"Topic5\", \"Topic5\", \"Topic5\", \"Topic6\", \"Topic6\", \"Topic6\", \"Topic6\", \"Topic6\", \"Topic6\", \"Topic6\", \"Topic6\", \"Topic6\", \"Topic6\", \"Topic6\", \"Topic6\", \"Topic6\", \"Topic6\", \"Topic6\", \"Topic6\", \"Topic6\", \"Topic6\", \"Topic6\", \"Topic6\", \"Topic6\", \"Topic6\", \"Topic6\", \"Topic6\", \"Topic6\", \"Topic6\", \"Topic6\", \"Topic6\", \"Topic6\", \"Topic6\", \"Topic6\", \"Topic6\", \"Topic6\", \"Topic6\", \"Topic6\", \"Topic6\", \"Topic6\", \"Topic6\", \"Topic6\", \"Topic6\", \"Topic6\", \"Topic6\", \"Topic6\", \"Topic6\", \"Topic6\", \"Topic6\", \"Topic6\", \"Topic6\", \"Topic6\", \"Topic6\", \"Topic6\", \"Topic6\", \"Topic6\", \"Topic6\", \"Topic6\", \"Topic6\"], \"Freq\": [49.0, 35.0, 90.0, 112.0, 78.0, 30.0, 23.0, 22.0, 27.0, 60.0, 68.0, 17.0, 17.0, 17.0, 16.0, 17.0, 17.0, 53.0, 16.0, 15.0, 15.0, 68.0, 14.0, 14.0, 14.0, 25.0, 14.0, 14.0, 17.0, 41.0, 83.21569478870411, 56.18205417128386, 49.85792535344183, 41.19279379900098, 40.55959139602446, 38.14685189386098, 38.268927567981464, 34.77339204351705, 32.98300807404798, 32.27337438545718, 31.73297744484819, 31.48096138263899, 30.91437489545541, 28.678091047618665, 28.346577496245395, 27.983709558198488, 27.181848135222516, 26.95411476090578, 26.872401583305663, 126.0336953521511, 31.140262759374185, 25.767201810714397, 25.142506015705926, 25.167725755586137, 24.919479446119798, 24.919109379349077, 24.76863757847712, 24.342047895821114, 24.34061105211412, 24.241263361290194, 61.59416404931991, 38.90074031164623, 41.52748565265615, 71.8317690618442, 55.171989741532194, 70.97067533736134, 47.58293928797509, 108.2660040427276, 58.78462126589525, 121.81319645459355, 45.215815675920126, 47.30086302636476, 68.66258976940107, 122.94595526790297, 51.189947074634084, 49.8751591704706, 82.42725659010353, 54.01050431849833, 60.301008389623476, 41.256015890739825, 109.13889291451275, 66.10376116874652, 65.60768103863427, 79.1668839027232, 94.9408030691266, 51.72218686547894, 72.84121091845405, 56.39470569039254, 60.03100634207652, 57.054788467234204, 41.18257502052762, 39.29528092194139, 76.44815275578001, 32.09822910338524, 31.51448277830711, 27.34016619974689, 24.507240603695067, 24.034166198570762, 23.50143469396852, 22.21323059767548, 34.84350031051728, 21.04602819963997, 20.36310921070145, 19.22633905464546, 19.38889002057913, 57.74995363901811, 18.652566229440378, 18.180240495655678, 18.063665479944213, 17.685819117792505, 17.771896375146188, 17.186814556422185, 16.89931734267693, 16.724185601862857, 16.813770851234693, 15.914870328533308, 15.183248720119366, 36.335688612309895, 15.147603725817186, 14.969707342314061, 24.41160439762135, 35.83371617357772, 32.164235307686276, 35.19116044068883, 35.739704682247165, 38.06995198790517, 38.031331526194066, 46.648669215862014, 25.13732808508364, 40.65756960187376, 56.49738374837881, 85.07086026854029, 29.09763347150648, 25.104216514115237, 36.55780774881908, 32.72940894858147, 40.20889873616241, 49.255068024168075, 30.799754122852942, 38.15208635893226, 39.16371760942485, 40.85671207692571, 54.21354115861752, 46.161537263708865, 54.09594923960325, 42.95414240520296, 41.96043476427948, 53.340163702961036, 37.00257466432939, 44.90168715751596, 37.60300618374199, 34.8522701318577, 22.779679673327756, 16.802266472464506, 16.362076309808263, 15.886435628687911, 13.716648455907082, 12.06371762728974, 10.346786885647937, 10.041022809138617, 9.262934543571962, 8.300262414579663, 7.871734904001529, 7.740190139036117, 7.737782049926506, 7.596504040125804, 7.168285464248837, 6.296521122407433, 5.96113173790993, 5.973534987309105, 5.857225741150867, 5.630866113282373, 5.605035264845059, 5.5065036057308046, 5.182237984846468, 31.065858158401554, 5.04406137969775, 4.997307385871751, 5.024349617333418, 4.950180208006721, 4.818457538372098, 4.803123630605365, 7.493294877286065, 6.180866576780851, 11.847634384556967, 7.281574869584882, 5.788223532953503, 5.431161731256636, 10.40958421427338, 9.399517773960477, 8.830932216285461, 8.464215558458665, 6.5306420834128165, 5.893274219755482, 5.78602281265135, 5.261321696161491, 5.2082397191106145, 4.763973299229731, 4.70937092579344, 4.517089096869836, 4.5104823114000006, 4.561116731002188, 4.036880895037616, 4.11984214605023, 3.9250743548593383, 3.775073712463005, 3.6439908705452644, 3.5889016401158904, 3.5597800941114515, 3.495059527007982, 3.423374518440142, 3.3969494914291127, 3.2796748733972483, 3.159415658880577, 3.091635105257412, 3.0311010832656247, 3.010898230064019, 2.912841956007308, 17.045681249225265, 9.074079424004282, 8.482595889955757, 4.999471904254257, 11.98502131827176, 6.780729439170687, 4.27072148878292, 16.24614490452374, 16.730243554716097, 14.275835731215098, 14.20563863514752, 14.243884437348285, 14.128789612637158, 14.120272062965388, 13.77102978149821, 13.764145482684016, 15.64416226135497, 14.711107316162213, 4.153203058202797, 3.2968256519398365, 2.433938851041657, 4.530192777399451, 2.501089801462958, 1.1533419316040625, 10.043224154744998, 1.8678509642733663, 0.9198916292672997, 0.5344868897044317, 0.7104884114144637, 0.7198309257100277, 0.4291799404231561, 0.6763447554262967, 0.43749641419392077, 0.46510060880381493, 4.196194463934427, 0.16032234735818654, 0.1602702745810046, 0.4160034966688759, 0.5793386668779161, 6.294822054307883, 0.49318103563974375, 0.45560939360292674, 0.4620935929740584, 6.617604977215321, 6.058274605624632, 4.970362369220039, 3.9403708578694165, 2.7744969896714426, 2.169806392833872, 1.7292662346200849, 1.7100572591555516, 0.9561165282389702, 0.1633340529724769, 0.16327425070082982, 0.1633179315672, 0.16329346165934433, 0.16327488999770398, 0.16324510354009078, 0.16327254068668615, 0.16327302953914347, 0.16323518076326343, 0.1632345937012629, 0.1632311424599923, 0.16325883949053918, 0.16326105150407483, 0.1632904365034654, 0.16323503081831356, 0.16322817174059978, 0.16324289254213747, 0.16322866168603808, 0.163259636309725, 0.16325891021779843, 0.16323014473296377, 0.25254523642521853, 0.5862014594281002, 0.2084205576121129, 0.20284935634392703, 0.16469117735154518, 0.16693383846287316, 0.1731971004162616, 0.16860410932176265, 0.16569503614743314, 0.16424979145190988, 0.1649208079352131, 0.1655902075905681, 0.16523222737139526, 0.16557285206299469, 0.16502591410798895, 0.1650285787441384, 0.16450970481034427, 0.16468331031821232, 0.16495078638788874, 0.16496862882514865, 0.16602510261900597, 0.16598651432242809, 0.16541996716262672, 0.16525908502718947, 0.16519716107819787, 0.16501600464471808], \"Term\": [\"space\", \"israel\", \"edu\", \"thanks\", \"windows\", \"soon\", \"israeli\", \"nasa\", \"jews\", \"card\", \"drive\", \"gordon\", \"pitt\", \"surrender\", \"banks\", \"armenian\", \"armenians\", \"file\", \"turkish\", \"geb\", \"shameful\", \"mail\", \"skepticism\", \"intellect\", \"cadre\", \"test\", \"chastity\", \"dsl\", \"gov\", \"dos\", \"god\", \"car\", \"government\", \"law\", \"fact\", \"jesus\", \"life\", \"person\", \"bike\", \"away\", \"evidence\", \"gun\", \"agree\", \"given\", \"bible\", \"christian\", \"claim\", \"love\", \"mind\", \"people\", \"money\", \"certainly\", \"issue\", \"live\", \"encryption\", \"cause\", \"saying\", \"church\", \"care\", \"children\", \"said\", \"state\", \"day\", \"say\", \"years\", \"did\", \"key\", \"think\", \"believe\", \"don\", \"course\", \"long\", \"right\", \"just\", \"things\", \"point\", \"time\", \"going\", \"really\", \"world\", \"like\", \"way\", \"make\", \"good\", \"know\", \"sure\", \"does\", \"want\", \"new\", \"use\", \"dos\", \"mac\", \"windows\", \"ftp\", \"scsi\", \"screen\", \"mouse\", \"controller\", \"modem\", \"ram\", \"monitor\", \"printer\", \"port\", \"motif\", \"format\", \"card\", \"player\", \"floppy\", \"vga\", \"ide\", \"teams\", \"keyboard\", \"motherboard\", \"unix\", \"cable\", \"directory\", \"cpu\", \"games\", \"disks\", \"nhl\", \"shipping\", \"video\", \"disk\", \"graphics\", \"files\", \"advance\", \"window\", \"file\", \"server\", \"software\", \"drive\", \"thanks\", \"color\", \"bus\", \"team\", \"memory\", \"game\", \"mail\", \"sale\", \"email\", \"program\", \"using\", \"use\", \"edu\", \"does\", \"need\", \"problem\", \"know\", \"help\", \"like\", \"new\", \"looking\", \"israeli\", \"armenian\", \"armenians\", \"turkish\", \"arab\", \"turkey\", \"arabs\", \"turks\", \"muslim\", \"armenia\", \"genocide\", \"israelis\", \"lebanon\", \"lebanese\", \"palestinian\", \"serdar\", \"palestinians\", \"nist\", \"holocaust\", \"palestine\", \"villages\", \"argic\", \"massacre\", \"israel\", \"occupied\", \"azerbaijan\", \"greece\", \"syria\", \"gaza\", \"henrik\", \"soldiers\", \"civilians\", \"jews\", \"adam\", \"greek\", \"killed\", \"shuttle\", \"lunar\", \"satellite\", \"spacecraft\", \"sphere\", \"handheld\", \"probe\", \"ames\", \"shaft\", \"jmd\", \"jupiter\", \"orbital\", \"satellites\", \"jpl\", \"astronomy\", \"launched\", \"ssto\", \"missions\", \"countersteering\", \"comet\", \"planetary\", \"centaur\", \"aerospace\", \"venus\", \"titan\", \"galileo\", \"shafer\", \"dryden\", \"payload\", \"exploration\", \"nasa\", \"orbit\", \"launch\", \"mission\", \"space\", \"gov\", \"moon\", \"pitt\", \"gordon\", \"geb\", \"skepticism\", \"shameful\", \"intellect\", \"cadre\", \"chastity\", \"dsl\", \"surrender\", \"banks\", \"baerga\", \"rushdie\", \"tga\", \"alomar\", \"lyme\", \"ieee\", \"soon\", \"deletion\", \"obp\", \"slows\", \"dose\", \"slg\", \"females\", \"nerve\", \"cone\", \"peripheral\", \"test\", \"gizwt\", \"supplemental\", \"suppress\", \"liver\", \"edu\", \"fits\", \"shrink\", \"beta\", \"tiff\", \"cooling\", \"laserwriter\", \"steam\", \"towers\", \"wpi\", \"fossil\", \"plants\", \"reactor\", \"gizwt\", \"supplemental\", \"nriz\", \"bhjn\", \"ghj\", \"aristide\", \"wwiz\", \"nuy\", \"pogroms\", \"bonner\", \"deposited\", \"nrhj\", \"qax\", \"conforms\", \"emerging\", \"briefed\", \"conventions\", \"focused\", \"sixteen\", \"stationed\", \"eyewitness\", \"generators\", \"river\", \"prefered\", \"circuits\", \"immense\", \"analyze\", \"pinch\", \"radioactive\", \"portal\", \"trapped\", \"critique\", \"atmospheric\", \"mega\", \"arranged\", \"vintage\", \"commenting\", \"replaces\", \"boiling\", \"randomly\", \"infinitely\", \"bytes\", \"tower\", \"circuit\", \"jpeg\", \"nuclear\", \"water\"], \"Total\": [49.0, 35.0, 90.0, 112.0, 78.0, 30.0, 23.0, 22.0, 27.0, 60.0, 68.0, 17.0, 17.0, 17.0, 16.0, 17.0, 17.0, 53.0, 16.0, 15.0, 15.0, 68.0, 14.0, 14.0, 14.0, 25.0, 14.0, 14.0, 17.0, 41.0, 83.99646248759844, 56.96570349553939, 50.640287246116834, 41.9774516094014, 41.34336811468448, 38.927434978461584, 39.053031169806296, 35.56122202498964, 33.763915726131195, 33.05783821904971, 32.51403721139688, 32.262381252277166, 31.6965027356045, 29.46202194063551, 29.127077950673417, 28.768709931253827, 27.96449010587304, 27.740313602369564, 27.661843965374405, 129.76450268470927, 32.06324439365762, 26.551376553184415, 25.925022668075442, 25.952365013118488, 25.700384903109924, 25.702675090783266, 25.551802035554438, 25.122737836035583, 25.124082798226087, 25.02381411620492, 63.71135116444341, 40.174682004853516, 43.235745143751416, 76.26441028858095, 59.18552966453246, 78.68379527383625, 51.193576730527056, 126.15245413340416, 65.36755110806294, 146.61534414565347, 49.0330851493295, 51.61583128797077, 78.64064570032096, 152.91568648635845, 57.43086556991148, 56.383983068072915, 103.42029891700149, 62.25392407420153, 72.23837018278464, 44.96964292958312, 154.68136603929517, 81.79162315353364, 82.82516727781453, 108.49514147290415, 148.92183347619456, 66.25251625988753, 127.5781113727651, 81.15546582723698, 98.27476681052502, 111.90891426210175, 41.967123078899675, 40.080160811207136, 78.21610239412836, 32.88786276149959, 32.29696000971957, 28.179576063710076, 25.29099396078229, 24.81682745130473, 24.28606273612475, 22.99759924144337, 36.09464789216466, 21.829501256407514, 21.1735997320211, 20.01018340437157, 20.186842267459692, 60.1889751864302, 19.44490460951545, 18.96273854552255, 18.84596461966224, 18.46811938418892, 18.569730246767545, 17.970539617349086, 17.68178036862069, 17.508015069895883, 17.602527260452334, 16.730216763587848, 15.96732016437158, 38.21816387463983, 15.932780446538242, 15.752920860933326, 25.77497527723635, 38.31841737608555, 34.35813033593575, 38.80037769003296, 39.59596237896603, 42.78582840804807, 42.86673577686184, 53.84613567372669, 27.403130891659973, 47.08955772217798, 68.81612751639061, 112.57178241082069, 32.635162070495284, 27.534435725548764, 43.57176877722325, 38.81650333914609, 50.60656136729427, 68.69606943199518, 36.628419868039046, 50.281011305701774, 54.46642430417918, 65.07501779945052, 111.90891426210175, 90.37634441123554, 127.5781113727651, 83.45592272101737, 79.34609109133253, 148.92183347619456, 63.22499098340548, 154.68136603929517, 98.27476681052502, 58.00674959309749, 23.54686773600355, 17.56832868758633, 17.12811172516944, 16.653519703603763, 14.513610128773102, 12.831293260283138, 11.113186823399895, 10.807465866944094, 10.037198216571788, 9.066487510997028, 8.639918916096395, 8.506459790366508, 8.504933437022501, 8.362719771345246, 7.935715728434381, 7.062714950169014, 6.7276127037999265, 6.766226718080821, 6.635644418404653, 6.400960075849706, 6.37300199980952, 6.27249060139015, 5.950572551075666, 35.77538495738726, 5.8142722609789015, 5.763384993105978, 5.795737855462265, 5.718316311381313, 5.585103871026267, 5.5718417357501, 10.114975505467921, 7.968764636104253, 27.203610532386527, 11.943700972056341, 13.876232529606341, 19.772078818755897, 11.175772978307695, 10.16444856991972, 9.602502182970756, 9.22979476839973, 7.299550299225196, 6.663576663599924, 6.5601904549728856, 6.029822713897258, 5.979287524668185, 5.528905751561362, 5.475145627434647, 5.282657470501046, 5.276890941464521, 5.344291386634146, 4.807076359475764, 4.9126104835938085, 4.689286690847436, 4.547437977600963, 4.412973066291793, 4.356145828228072, 4.325987742557348, 4.259410605426995, 4.18889430958188, 4.1664426810282995, 4.046214249398259, 3.925717246945021, 3.856522592463438, 3.7992834084043787, 3.7768994321871965, 3.6840505333691103, 22.817116654750773, 13.360142117630579, 13.977164938968597, 8.871132687500772, 49.475666457804614, 17.693120417056253, 14.076940212359629, 17.01250118606065, 17.5215880790219, 15.038445839983167, 14.969277769419124, 15.009622385735653, 14.892243839409453, 14.883267150678677, 14.533635574673221, 14.526733374012293, 17.02737019048033, 16.83378233103909, 4.9251266733148045, 4.069472306660027, 3.2877644625817606, 7.854881684878602, 4.81306994798517, 3.347146766152727, 30.276693685349493, 6.30207810047931, 3.397105531773426, 2.114592586630896, 2.8898053062157256, 3.109320135146026, 2.1199911106723697, 3.455148293255346, 2.336515313033128, 2.6401699096485767, 25.537655348875568, 0.9890990841678675, 0.9978283612782407, 2.606484695004725, 3.8449279555182145, 90.37634441123554, 6.53719718393786, 4.004614330556052, 5.117744845819218, 7.404378192931487, 6.827359913651434, 5.73741326338403, 4.708125979796282, 3.54315058174443, 2.954397556737823, 2.7750355347009292, 4.4487463496200945, 3.195584201172411, 0.9890990841678675, 0.9978283612782407, 1.020670604160277, 1.0662048336356746, 1.106246314209326, 1.1135043719643545, 1.1172545891642567, 1.1176152343386985, 1.166359537197141, 1.181627373909848, 1.2025805673632335, 1.2094963681312352, 1.2145038633188054, 1.2173164122250093, 1.2356173164241273, 1.2506973763422318, 1.2603675725827233, 1.266213605017452, 1.2671205416258695, 1.2680404353789712, 1.2708831062706254, 2.028395446000258, 5.966194736415048, 3.3918495689163306, 5.77716269164371, 1.3451993172750527, 1.8142496829773758, 3.4031760535660323, 2.2859653594529554, 1.8407616833036073, 1.4616568036180904, 1.7645774368397007, 2.3019132416557815, 2.079676157899264, 2.3203674160195407, 1.9726892652805281, 2.38037280973224, 1.844922898622596, 2.2210062208710535, 2.627688814529867, 2.6945029019436304, 7.886161480739824, 5.746995780650052, 11.625483700478128, 5.607102657555532, 8.751588259357698, 15.250791449062982], \"loglift\": [30.0, 29.0, 28.0, 27.0, 26.0, 25.0, 24.0, 23.0, 22.0, 21.0, 20.0, 19.0, 18.0, 17.0, 16.0, 15.0, 14.0, 13.0, 12.0, 11.0, 10.0, 9.0, 8.0, 7.0, 6.0, 5.0, 4.0, 3.0, 2.0, 1.0, 0.4472, 0.4427, 0.441, 0.4377, 0.4374, 0.4363, 0.4363, 0.4342, 0.4332, 0.4326, 0.4323, 0.4321, 0.4316, 0.4296, 0.4294, 0.4289, 0.4282, 0.4278, 0.4276, 0.4274, 0.4274, 0.4266, 0.4259, 0.4259, 0.4257, 0.4256, 0.4255, 0.425, 0.4249, 0.4248, 0.4228, 0.4244, 0.4163, 0.3967, 0.3864, 0.3534, 0.3834, 0.3037, 0.3504, 0.2713, 0.3755, 0.3693, 0.3209, 0.2384, 0.3415, 0.3339, 0.2297, 0.3145, 0.276, 0.3704, 0.1078, 0.2436, 0.2235, 0.1414, 0.0064, 0.209, -0.1039, 0.0926, -0.0363, -0.2171, 1.4014, 1.4005, 1.3974, 1.396, 1.3958, 1.3901, 1.3888, 1.3883, 1.3875, 1.3856, 1.385, 1.3838, 1.3813, 1.3804, 1.38, 1.3789, 1.3787, 1.3782, 1.3779, 1.377, 1.3764, 1.3757, 1.375, 1.3745, 1.3745, 1.3703, 1.37, 1.3698, 1.3698, 1.3693, 1.366, 1.3533, 1.3543, 1.3227, 1.3178, 1.3035, 1.3006, 1.2768, 1.334, 1.2734, 1.2231, 1.1402, 1.3056, 1.3279, 1.2448, 1.2497, 1.1903, 1.0876, 1.247, 1.1443, 1.0905, 0.9548, 0.6956, 0.7485, 0.5623, 0.7561, 0.7832, 0.3936, 0.8846, 0.1834, 0.4596, 0.9109, 3.2273, 3.2158, 3.2146, 3.2132, 3.2039, 3.1987, 3.1889, 3.1868, 3.1801, 3.1721, 3.1673, 3.166, 3.1659, 3.1643, 3.1587, 3.1456, 3.1394, 3.1358, 3.1356, 3.1322, 3.132, 3.1302, 3.1221, 3.1192, 3.1183, 3.1178, 3.1176, 3.1161, 3.1128, 3.1119, 2.9604, 3.0063, 2.4292, 2.7655, 2.386, 1.9683, 3.3998, 3.3925, 3.387, 3.3842, 3.3595, 3.3479, 3.3452, 3.3344, 3.3327, 3.3219, 3.3201, 3.3142, 3.3138, 3.3123, 3.2962, 3.2948, 3.2929, 3.2846, 3.2793, 3.277, 3.2758, 3.273, 3.269, 3.2666, 3.2607, 3.2536, 3.2497, 3.2449, 3.2441, 3.2359, 3.1792, 3.0839, 2.9714, 2.8973, 2.053, 2.5117, 2.278, 3.4938, 3.4937, 3.4878, 3.4875, 3.4875, 3.4872, 3.4872, 3.486, 3.4859, 3.4551, 3.4051, 3.3694, 3.3293, 3.2392, 2.9895, 2.8853, 2.4744, 2.4364, 2.3238, 2.2334, 2.1646, 2.1369, 2.0767, 1.9426, 1.9089, 1.8645, 1.8035, 1.7339, 1.7203, 1.7111, 1.7048, 1.6472, 0.8756, 0.9555, 1.3663, 1.1352, 3.5207, 3.5135, 3.4895, 3.455, 3.3885, 3.3244, 3.1601, 2.677, 2.4264, 1.8321, 1.8229, 1.8005, 1.7567, 1.7198, 1.713, 1.7098, 1.7095, 1.6666, 1.6536, 1.636, 1.6304, 1.6263, 1.6242, 1.6089, 1.5967, 1.5891, 1.5844, 1.5839, 1.5832, 1.5807, 1.5496, 1.3128, 0.8435, 0.2838, 1.5328, 1.2472, 0.655, 1.0261, 1.2253, 1.4471, 1.2628, 1.0011, 1.1004, 0.993, 1.152, 0.9642, 1.2158, 1.0314, 0.8648, 0.8398, -0.2277, 0.0885, -0.6194, 0.1088, -0.3368, -0.8933], \"logprob\": [30.0, 29.0, 28.0, 27.0, 26.0, 25.0, 24.0, 23.0, 22.0, 21.0, 20.0, 19.0, 18.0, 17.0, 16.0, 15.0, 14.0, 13.0, 12.0, 11.0, 10.0, 9.0, 8.0, 7.0, 6.0, 5.0, 4.0, 3.0, 2.0, 1.0, -6.0834, -6.4763, -6.5957, -6.7866, -6.8021, -6.8634, -6.8602, -6.956, -7.0089, -7.0306, -7.0475, -7.0555, -7.0736, -7.1487, -7.1603, -7.1732, -7.2023, -7.2107, -7.2138, -5.6683, -7.0664, -7.2558, -7.2803, -7.2793, -7.2892, -7.2892, -7.2953, -7.3126, -7.3127, -7.3168, -6.3843, -6.8438, -6.7785, -6.2305, -6.4944, -6.2426, -6.6424, -5.8203, -6.431, -5.7024, -6.6934, -6.6483, -6.2757, -5.6931, -6.5693, -6.5953, -6.0929, -6.5157, -6.4055, -6.7851, -5.8122, -6.3136, -6.3212, -6.1333, -5.9516, -6.559, -6.2166, -6.4725, -6.41, -6.4608, -5.8231, -5.87, -5.2045, -6.0723, -6.0907, -6.2328, -6.3422, -6.3617, -6.3841, -6.4404, -5.9903, -6.4944, -6.5274, -6.5848, -6.5764, -5.485, -6.6151, -6.6408, -6.6472, -6.6684, -6.6635, -6.697, -6.7139, -6.7243, -6.7189, -6.7739, -6.8209, -5.9483, -6.8233, -6.8351, -6.3461, -5.9622, -6.0703, -5.9803, -5.9649, -5.9017, -5.9027, -5.6985, -6.3168, -5.8359, -5.5069, -5.0976, -6.1705, -6.3181, -5.9422, -6.0529, -5.847, -5.6441, -6.1136, -5.8995, -5.8734, -5.8311, -5.5482, -5.709, -5.5504, -5.781, -5.8044, -5.5644, -5.9301, -5.7367, -5.914, -5.99, -4.5752, -4.8795, -4.9061, -4.9356, -5.0824, -5.2108, -5.3644, -5.3944, -5.475, -5.5848, -5.6378, -5.6546, -5.6549, -5.6734, -5.7314, -5.861, -5.9158, -5.9137, -5.9334, -5.9728, -5.9774, -5.9951, -6.0558, -4.2649, -6.0828, -6.0921, -6.0867, -6.1016, -6.1286, -6.1318, -5.687, -5.8796, -5.2289, -5.7157, -5.9452, -6.0089, -5.1479, -5.25, -5.3124, -5.3548, -5.6142, -5.7169, -5.7352, -5.8303, -5.8404, -5.9296, -5.9411, -5.9828, -5.9843, -5.9731, -6.0952, -6.0749, -6.1233, -6.1622, -6.1976, -6.2128, -6.221, -6.2393, -6.26, -6.2678, -6.3029, -6.3403, -6.362, -6.3817, -6.3884, -6.4215, -4.6548, -5.2852, -5.3526, -5.8813, -5.007, -5.5766, -6.0389, -4.6337, -4.6044, -4.763, -4.7679, -4.7652, -4.7734, -4.774, -4.799, -4.7995, -4.6715, -4.733, -5.9977, -6.2286, -6.5321, -5.9108, -6.5048, -7.2789, -5.1147, -6.7968, -7.5051, -8.048, -7.7634, -7.7503, -8.2675, -7.8126, -8.2483, -8.1871, -5.9874, -9.2521, -9.2525, -8.2986, -7.9674, -5.5818, -8.1285, -8.2077, -8.1936, -5.4387, -5.527, -5.7249, -5.9571, -6.3079, -6.5538, -6.7807, -6.7919, -7.3733, -9.1403, -9.1407, -9.1404, -9.1406, -9.1407, -9.1409, -9.1407, -9.1407, -9.141, -9.141, -9.141, -9.1408, -9.1408, -9.1406, -9.141, -9.141, -9.1409, -9.141, -9.1408, -9.1408, -9.141, -8.7046, -7.8625, -8.8966, -8.9237, -9.1321, -9.1185, -9.0817, -9.1086, -9.126, -9.1348, -9.1307, -9.1266, -9.1288, -9.1267, -9.13, -9.13, -9.1332, -9.1321, -9.1305, -9.1304, -9.124, -9.1242, -9.1277, -9.1286, -9.129, -9.1301]}, \"token.table\": {\"Topic\": [1, 3, 1, 2, 4, 1, 2, 5, 4, 1, 3, 3, 3, 3, 3, 3, 1, 4, 1, 1, 3, 5, 1, 5, 1, 2, 2, 1, 1, 1, 1, 2, 2, 2, 5, 1, 1, 2, 1, 1, 4, 1, 5, 1, 1, 1, 1, 2, 2, 1, 3, 1, 1, 2, 4, 1, 2, 2, 6, 4, 1, 2, 2, 1, 1, 2, 1, 5, 1, 2, 2, 1, 2, 2, 1, 2, 1, 2, 2, 1, 5, 1, 2, 4, 5, 1, 2, 5, 1, 2, 1, 1, 4, 1, 1, 1, 2, 1, 2, 1, 2, 2, 2, 6, 2, 4, 1, 2, 1, 2, 3, 5, 2, 3, 1, 1, 1, 2, 1, 2, 5, 1, 4, 1, 1, 2, 3, 1, 3, 1, 4, 1, 2, 3, 3, 2, 1, 5, 1, 1, 5, 1, 3, 3, 3, 1, 1, 1, 3, 4, 1, 4, 4, 1, 2, 1, 2, 2, 1, 3, 1, 2, 6, 1, 4, 4, 1, 3, 3, 1, 1, 2, 1, 1, 5, 1, 2, 1, 2, 1, 4, 1, 5, 2, 1, 2, 1, 2, 3, 1, 1, 2, 1, 1, 4, 4, 2, 1, 1, 2, 1, 4, 2, 2, 2, 3, 1, 4, 1, 2, 1, 5, 1, 2, 2, 3, 1, 2, 5, 3, 1, 4, 4, 3, 3, 3, 4, 1, 2, 1, 1, 2, 5, 4, 1, 6, 2, 1, 2, 2, 1, 2, 2, 4, 1, 2, 1, 2, 1, 2, 1, 1, 6, 1, 2, 1, 2, 1, 2, 3, 6, 5, 1, 2, 1, 2, 4, 4, 1, 2, 1, 2, 2, 3, 1, 2, 4, 4, 5, 1, 2, 2, 4, 5, 2, 5, 2, 5, 1, 2, 1, 3, 1, 2, 5, 1, 2, 4, 4, 4, 4, 1, 2, 6, 1, 1, 2, 1, 5, 3, 1, 2, 2, 1, 2, 5, 5, 1, 2, 1, 2, 1, 2, 6, 1, 2, 4, 1, 2, 6, 1, 3, 3, 3, 2, 1, 2, 1, 2, 4, 2, 1, 2, 3, 1, 1, 2, 1, 1, 2, 1, 2, 1, 2, 1, 2, 6, 1, 2], \"Freq\": [0.33490456679704717, 0.5860829918948326, 0.09348889921803162, 0.8881445425713004, 0.7161794445702903, 0.9780258806022116, 0.3819280952092871, 0.6365468253488118, 0.8292117757419684, 0.5511920489129667, 0.9646118281932574, 0.899831898708301, 0.9565578302612747, 0.8823703766532021, 0.9676503839555377, 0.9341368305350496, 0.430966231078802, 0.8321066071927803, 0.8688424758186745, 0.9680003812699367, 0.8675457228661418, 0.8121618519321945, 0.059404356093885266, 0.891065341408279, 0.9025885014793292, 0.09178866116738942, 0.7815942608525462, 0.9613048053573339, 0.9773747887440682, 0.4502463750902108, 0.07263631693545955, 0.9079539616932443, 0.8876308223076493, 0.9657704117404758, 0.9406536789445186, 0.9830476332901777, 0.03322867674362574, 0.9636316255651465, 0.9552587528367222, 0.9726614024298491, 0.7043227990693464, 0.979233598224937, 0.9632827194591866, 0.9590864081929893, 0.9732796523344026, 0.9553098932384213, 0.25805377886140063, 0.6881434102970683, 0.8654767516296841, 0.1254899655925686, 0.7529397935554115, 0.9655101844438608, 0.0919253899680257, 0.8886121030242484, 0.9182429050193346, 0.8402045225113176, 0.42798777924629056, 0.9670857424097622, 0.8788170062637078, 0.9064184031744356, 0.9177476771643717, 0.06118317847762478, 0.9394187531524548, 0.5667079149504295, 0.9714184376921741, 0.023129010421242237, 0.6347112708260115, 0.31735563541300577, 0.9023458992147618, 0.0889636802042723, 0.9563534188524614, 0.05821038515323886, 0.9313661624518218, 0.9414552626474615, 0.5721984689576128, 0.4232701003248095, 0.8321093587503392, 0.163693644344329, 0.9769552209456567, 0.6920881471489342, 0.3460440735744671, 0.17437772849310423, 0.8137627329678196, 0.7896225886607229, 0.9637404115260629, 0.4093991656892042, 0.5089827465325242, 0.06638905389554663, 0.21877046054466728, 0.7557525000633961, 0.9727480772855984, 0.9841902988529305, 0.8143210775277999, 0.9916947232327082, 0.47170009108332683, 0.13000004387344608, 0.8728574374359951, 0.07576530079727636, 0.9091836095673165, 0.6118830268464519, 0.15297075671161298, 0.9492299836750177, 0.9412071362259153, 0.7207114917955614, 0.9730033305010329, 0.7641915632957491, 0.19760283508341164, 0.7904113403336466, 0.026165568897556675, 0.9419604803120403, 0.8952384978797621, 0.930947263365326, 0.49300051524562183, 0.9259346155547583, 0.9843180504866075, 0.98813685174247, 0.8674151999741649, 0.12850595555172814, 0.7281432046404553, 0.2672930751211798, 0.9702316892356132, 0.5651914283226125, 0.3956339998258287, 0.9873561687554224, 0.07731883498573881, 0.9020530748336194, 0.8627029249239918, 0.5044596928643847, 0.432394022455187, 0.9608714173201935, 0.9004173438530781, 0.4112297937191349, 0.5852116295233842, 0.8973693505899416, 0.9042075828171825, 0.9746525688701314, 0.5975238433595301, 0.29876192167976506, 0.7433842607247846, 0.7422519376606856, 0.940086675384115, 0.11180872001138425, 0.866517580088228, 0.976775351094049, 0.940461742858049, 0.964319311118114, 0.9761752866847063, 0.5513973956560713, 0.441117916524857, 0.9043380778534704, 0.8917261383225318, 0.9355777292579509, 0.9132177188029839, 0.804364828921412, 0.18964699218472317, 0.9376176283337768, 0.05860110177086105, 0.9459927393381048, 0.7080691984051534, 0.25288185657326906, 0.6379185494999021, 0.3558914012999454, 0.8714728694740929, 0.3577263359080715, 0.5723621374529144, 0.8142310515678844, 0.9767148416131463, 0.9566265782828093, 0.9406305245347959, 0.9730358658914947, 0.7046744077260715, 0.2909206270428736, 0.9633033439288834, 0.7802486898862228, 0.26008289662874096, 0.9105733420775788, 0.07749560358107054, 0.3965055818734736, 0.6033780593726773, 0.9733127169007084, 0.8854390809388574, 0.4155352034385523, 0.6233028051578284, 0.9730499880902398, 0.27658059852767575, 0.7132868067292691, 0.7968592418125873, 0.20525162289112098, 0.8402552791489225, 0.4808440949816564, 0.12881119034123678, 0.8501538562521628, 0.9760737582713984, 0.3381755301920952, 0.563625883653492, 0.8796161750204302, 0.9882211151625149, 0.9668391513783322, 0.027704938499125174, 0.9696728474693811, 0.6393434840405127, 0.28415265957356123, 0.9614416447661218, 0.9495165344586058, 0.9884941666889991, 0.8966645677217637, 0.21913373524165006, 0.7450546998216102, 0.47929492234739235, 0.5152420415234468, 0.5788463562921795, 0.28942317814608975, 0.6105331200193103, 0.38667097601222983, 0.9522043646648068, 0.8867571617082682, 0.914119787507821, 0.588736493845665, 0.2943682469228325, 0.8599528497411971, 0.29939801274429856, 0.6736455286746718, 0.9464933185466904, 0.9373593849831223, 0.8820880484564703, 0.8918468205833323, 0.794302324926535, 0.9709897344279433, 0.023118803200665318, 0.7575270033534367, 0.9842181456926521, 0.5876863166994525, 0.9404848719781279, 0.9246443212609204, 0.44956485329193746, 0.44956485329193746, 0.9771197329866183, 0.8867766567614517, 0.1064131988113742, 0.9445724984473826, 0.54325337661598, 0.8844731875766756, 0.9620009066325308, 0.9146075927493479, 0.46631156609102, 0.5293266425898064, 0.2753990222715806, 0.7160374579061095, 0.8749038963908934, 0.9566215920640262, 0.7611251335930468, 0.6258636524946615, 0.31293182624733074, 0.8305835229696087, 0.1522736458777616, 0.5420280710628025, 0.5420280710628025, 0.8774088689828546, 0.11444463508472016, 0.8380551123284969, 0.1676110224656994, 0.7371963178346864, 0.9731389911975609, 0.01569579018060582, 0.1365060250486771, 0.846337355301798, 0.937255709867034, 0.9475276361524207, 0.9440838751333077, 0.05244910417407265, 0.9784045745663408, 0.9581407448769556, 0.990805326271259, 0.8495316662689915, 0.0729843610902392, 0.91230451362799, 0.7779028718417761, 0.836220031127784, 0.9327349909418677, 0.03879732140356963, 0.9311357136856712, 0.7491358099353956, 0.8947926930343088, 0.9352488620794204, 0.6432274301359684, 0.3216137150679842, 0.47290433453815517, 0.47290433453815517, 0.12741678389504502, 0.870681356616141, 0.19772662809898514, 0.692043198346448, 0.4293731718232673, 0.23120093867406702, 0.33028705524866714, 0.6669945523249109, 0.08084782452423163, 0.24254347357269487, 0.866758167515251, 0.9589631844502816, 0.8530082001186261, 0.9707606396309097, 0.02489129845207461, 0.8495949380209825, 0.38365849679320185, 0.7848758497869055, 0.21131272878878227, 0.05872897510380555, 0.9396636016608888, 0.8743832498472269, 0.1377038428409279, 0.8491736975190555, 0.9693194117956173, 0.6265258020527121, 0.19578931314147255, 0.15663145051317803, 0.6083160830899283, 0.23984696183867735, 0.7550737687513916, 0.888024226936244, 0.10447343846308754, 0.8561070075243384, 0.13475758451771994, 0.9453866101386443, 0.7928810964451761, 0.19338563327931124, 0.7414337983823153, 0.5220118675049149, 0.34800791166994327, 0.8467040648673148, 0.6841551296615354, 0.9352136029143492, 0.9607578628881471, 0.9252862903399193, 0.9709838569439326, 0.5093428023660418, 0.4825352864520395, 0.3688051238643326, 0.6300420866015682, 0.7200387067990539, 0.9551116306999943, 0.052194222438012174, 0.9394960038842192, 0.9414715388727842, 0.5069222089865197, 0.6900336216319957, 0.29572869498514104, 0.9179851450175177, 0.8069286004522653, 0.18339286373915123, 0.09331244676108692, 0.8864682442303257, 0.012785091169092433, 0.9716669288510249, 0.9117261630073629, 0.06671167046395338, 0.6769569638448907, 0.9292811995050763, 0.05068806542754962], \"Term\": [\"adam\", \"adam\", \"advance\", \"advance\", \"aerospace\", \"agree\", \"alomar\", \"alomar\", \"ames\", \"analyze\", \"arab\", \"arabs\", \"argic\", \"armenia\", \"armenian\", \"armenians\", \"arranged\", \"astronomy\", \"atmospheric\", \"away\", \"azerbaijan\", \"baerga\", \"banks\", \"banks\", \"believe\", \"believe\", \"beta\", \"bible\", \"bike\", \"boiling\", \"bus\", \"bus\", \"bytes\", \"cable\", \"cadre\", \"car\", \"card\", \"card\", \"care\", \"cause\", \"centaur\", \"certainly\", \"chastity\", \"children\", \"christian\", \"church\", \"circuit\", \"circuit\", \"circuits\", \"civilians\", \"civilians\", \"claim\", \"color\", \"color\", \"comet\", \"commenting\", \"cone\", \"controller\", \"cooling\", \"countersteering\", \"course\", \"course\", \"cpu\", \"critique\", \"day\", \"day\", \"deletion\", \"deletion\", \"did\", \"did\", \"directory\", \"disk\", \"disk\", \"disks\", \"does\", \"does\", \"don\", \"don\", \"dos\", \"dose\", \"dose\", \"drive\", \"drive\", \"dryden\", \"dsl\", \"edu\", \"edu\", \"edu\", \"email\", \"email\", \"encryption\", \"evidence\", \"exploration\", \"fact\", \"females\", \"file\", \"file\", \"files\", \"files\", \"fits\", \"fits\", \"floppy\", \"format\", \"fossil\", \"ftp\", \"galileo\", \"game\", \"game\", \"games\", \"games\", \"gaza\", \"geb\", \"generators\", \"genocide\", \"given\", \"god\", \"going\", \"going\", \"good\", \"good\", \"gordon\", \"gov\", \"gov\", \"government\", \"graphics\", \"graphics\", \"greece\", \"greek\", \"greek\", \"gun\", \"handheld\", \"help\", \"help\", \"henrik\", \"holocaust\", \"ide\", \"ieee\", \"ieee\", \"immense\", \"infinitely\", \"intellect\", \"israel\", \"israel\", \"israeli\", \"israelis\", \"issue\", \"jesus\", \"jews\", \"jews\", \"jmd\", \"jpeg\", \"jpl\", \"jupiter\", \"just\", \"just\", \"key\", \"key\", \"keyboard\", \"killed\", \"killed\", \"know\", \"know\", \"laserwriter\", \"launch\", \"launch\", \"launched\", \"law\", \"lebanese\", \"lebanon\", \"life\", \"like\", \"like\", \"live\", \"liver\", \"liver\", \"long\", \"long\", \"looking\", \"looking\", \"love\", \"lunar\", \"lyme\", \"lyme\", \"mac\", \"mail\", \"mail\", \"make\", \"make\", \"massacre\", \"mega\", \"memory\", \"memory\", \"mind\", \"mission\", \"mission\", \"missions\", \"modem\", \"money\", \"monitor\", \"monitor\", \"moon\", \"moon\", \"motherboard\", \"motif\", \"mouse\", \"muslim\", \"nasa\", \"nasa\", \"need\", \"need\", \"nerve\", \"nerve\", \"new\", \"new\", \"nhl\", \"nist\", \"nuclear\", \"obp\", \"obp\", \"occupied\", \"orbit\", \"orbit\", \"orbital\", \"palestine\", \"palestinian\", \"palestinians\", \"payload\", \"people\", \"people\", \"peripheral\", \"person\", \"pinch\", \"pitt\", \"planetary\", \"plants\", \"plants\", \"player\", \"point\", \"point\", \"port\", \"portal\", \"prefered\", \"printer\", \"probe\", \"problem\", \"problem\", \"program\", \"program\", \"radioactive\", \"ram\", \"randomly\", \"reactor\", \"reactor\", \"really\", \"really\", \"replaces\", \"replaces\", \"right\", \"right\", \"river\", \"river\", \"rushdie\", \"said\", \"said\", \"sale\", \"sale\", \"satellite\", \"satellites\", \"say\", \"say\", \"saying\", \"screen\", \"scsi\", \"serdar\", \"server\", \"server\", \"shafer\", \"shaft\", \"shameful\", \"shipping\", \"shipping\", \"shrink\", \"shuttle\", \"skepticism\", \"slg\", \"slg\", \"slows\", \"slows\", \"software\", \"software\", \"soldiers\", \"soldiers\", \"soon\", \"soon\", \"soon\", \"space\", \"space\", \"space\", \"spacecraft\", \"sphere\", \"ssto\", \"state\", \"state\", \"steam\", \"suppress\", \"sure\", \"sure\", \"surrender\", \"surrender\", \"syria\", \"team\", \"team\", \"teams\", \"test\", \"test\", \"test\", \"tga\", \"thanks\", \"thanks\", \"things\", \"things\", \"think\", \"think\", \"tiff\", \"time\", \"time\", \"titan\", \"tower\", \"tower\", \"towers\", \"trapped\", \"turkey\", \"turkish\", \"turks\", \"unix\", \"use\", \"use\", \"using\", \"using\", \"venus\", \"vga\", \"video\", \"video\", \"villages\", \"vintage\", \"want\", \"want\", \"water\", \"way\", \"way\", \"window\", \"window\", \"windows\", \"windows\", \"world\", \"world\", \"wpi\", \"years\", \"years\"]}, \"R\": 30, \"lambda.step\": 0.01, \"plot.opts\": {\"xlab\": \"PC1\", \"ylab\": \"PC2\"}, \"topic.order\": [1, 6, 5, 4, 2, 3]};\n",
       "\n",
       "function LDAvis_load_lib(url, callback){\n",
       "  var s = document.createElement('script');\n",
       "  s.src = url;\n",
       "  s.async = true;\n",
       "  s.onreadystatechange = s.onload = callback;\n",
       "  s.onerror = function(){console.warn(\"failed to load library \" + url);};\n",
       "  document.getElementsByTagName(\"head\")[0].appendChild(s);\n",
       "}\n",
       "\n",
       "if(typeof(LDAvis) !== \"undefined\"){\n",
       "   // already loaded: just create the visualization\n",
       "   !function(LDAvis){\n",
       "       new LDAvis(\"#\" + \"ldavis_el458481123045362161796733555\", ldavis_el458481123045362161796733555_data);\n",
       "   }(LDAvis);\n",
       "}else if(typeof define === \"function\" && define.amd){\n",
       "   // require.js is available: use it to load d3/LDAvis\n",
       "   require.config({paths: {d3: \"https://cdnjs.cloudflare.com/ajax/libs/d3/3.5.5/d3.min\"}});\n",
       "   require([\"d3\"], function(d3){\n",
       "      window.d3 = d3;\n",
       "      LDAvis_load_lib(\"https://cdn.rawgit.com/bmabey/pyLDAvis/files/ldavis.v1.0.0.js\", function(){\n",
       "        new LDAvis(\"#\" + \"ldavis_el458481123045362161796733555\", ldavis_el458481123045362161796733555_data);\n",
       "      });\n",
       "    });\n",
       "}else{\n",
       "    // require.js not available: dynamically load d3 & LDAvis\n",
       "    LDAvis_load_lib(\"https://cdnjs.cloudflare.com/ajax/libs/d3/3.5.5/d3.min.js\", function(){\n",
       "         LDAvis_load_lib(\"https://cdn.rawgit.com/bmabey/pyLDAvis/files/ldavis.v1.0.0.js\", function(){\n",
       "                 new LDAvis(\"#\" + \"ldavis_el458481123045362161796733555\", ldavis_el458481123045362161796733555_data);\n",
       "            })\n",
       "         });\n",
       "}\n",
       "</script>"
      ],
      "text/plain": [
       "<IPython.core.display.HTML object>"
      ]
     },
     "execution_count": 16,
     "metadata": {},
     "output_type": "execute_result"
    }
   ],
   "source": [
    "pyLDAvis.display(newsGroup_data)"
   ]
  },
  {
   "cell_type": "code",
   "execution_count": 12,
   "metadata": {},
   "outputs": [
    {
     "name": "stdout",
     "output_type": "stream",
     "text": [
      "\n",
      "\n",
      "\n",
      "All labels =  ['alt.atheism', 'comp.graphics', 'comp.os.ms-windows.misc', 'comp.sys.ibm.pc.hardware', 'comp.sys.mac.hardware', 'comp.windows.x', 'misc.forsale', 'rec.autos', 'rec.motorcycles', 'rec.sport.baseball', 'rec.sport.hockey', 'sci.crypt', 'sci.electronics', 'sci.med', 'sci.space', 'soc.religion.christian', 'talk.politics.guns', 'talk.politics.mideast', 'talk.politics.misc', 'talk.religion.misc']\n"
     ]
    }
   ],
   "source": [
    "print(\"\\n\\n\\nAll labels = \" , newsgroups1.target_names)\n"
   ]
  },
  {
   "cell_type": "code",
   "execution_count": null,
   "metadata": {},
   "outputs": [],
   "source": []
  }
 ],
 "metadata": {
  "kernelspec": {
   "display_name": "Python 3",
   "language": "python",
   "name": "python3"
  },
  "language_info": {
   "codemirror_mode": {
    "name": "ipython",
    "version": 3
   },
   "file_extension": ".py",
   "mimetype": "text/x-python",
   "name": "python",
   "nbconvert_exporter": "python",
   "pygments_lexer": "ipython3",
   "version": "3.6.5"
  }
 },
 "nbformat": 4,
 "nbformat_minor": 2
}
